{
 "cells": [
  {
   "cell_type": "code",
   "execution_count": null,
   "metadata": {
    "collapsed": true
   },
   "outputs": [],
   "source": [
    "class Kmeans(): \n",
    "    def __init__(self, k=3, metric='euclidean', max_iter=1000, random_state=None):\n",
    "        self.k = k\n",
    "        self.random_state = random_state\n",
    "        self.metric = metric\n",
    "        self.max_iter = max_iter\n",
    "\n",
    "    def fit(self, X, y=None):        \n",
    "        # Инициализация генератора случайных чисел\n",
    "        np.random.seed(self.random_state)\n",
    "        \n",
    "        # Массив с метками кластеров для каждого объекта из X\n",
    "        self.labels = np.empty(X.shape[0])\n",
    "        for i in range(X.shape[0]):\n",
    "            self.labels[i] = 0\n",
    "        \n",
    "        # Массив с центройдами кластеров\n",
    "        self.centroids = np.empty((self.k, X.shape[1]))\n",
    "        \n",
    "        # Среди массива имеющихся точек случайно выбираем центройды\n",
    "        for i in xrange(self.centroids.shape[0]):\n",
    "            self.centroids[i] = X[np.random.randint(0,X.shape[0])]\n",
    "        \n",
    "        # Сохраняем начальную конфигурацию центройдов\n",
    "        self.centroids_init = np.copy(self.centroids)\n",
    "        \n",
    "        for n in xrange(self.max_iter):\n",
    "            # Расчет принадлежности каждой точки к определеному кластеру\n",
    "            for i in xrange(X.shape[0]):\n",
    "                distances = [] \n",
    "                for centr in self.centroids:\n",
    "                    distances.append(PED(centr.reshape((1,-1)), X[i].reshape((1,-1))))\n",
    "\n",
    "                self.labels[i] = distances.index(min(distances))\n",
    "\n",
    "            # Расчет количества точек, принадлежащих каждому кластеру\n",
    "            freq_centr = np.empty(self.k)\n",
    "            for i in range(self.centroids.shape[0]):\n",
    "                freq_centr[i] = 0\n",
    "\n",
    "            for label in self.labels:\n",
    "                freq_centr[int(label)] += 1\n",
    "\n",
    "\n",
    "            # Расчет нового положения центройдов\n",
    "            self.centroids = np.empty(self.centroids.shape)\n",
    "            for i in range(self.centroids.shape[0]):\n",
    "                self.centroids[i] = 0\n",
    "            for i in xrange(X.shape[0]):\n",
    "                idx = int(self.labels[i])\n",
    "                self.centroids[idx] += X[i] / freq_centr[idx]\n",
    "                    \n",
    "        \n",
    "        return self\n",
    "\n",
    "    def predict(self, X, y=None):\n",
    "        \"\"\"\n",
    "        Процедура предсказания кластера\n",
    "        \n",
    "        Возвращает метку ближайшего кластера для каждого объекта\n",
    "        \"\"\"\n",
    "        \n",
    "        return self.labels"
   ]
  }
 ],
 "metadata": {
  "kernelspec": {
   "display_name": "Python 2",
   "language": "python",
   "name": "python2"
  },
  "language_info": {
   "codemirror_mode": {
    "name": "ipython",
    "version": 2
   },
   "file_extension": ".py",
   "mimetype": "text/x-python",
   "name": "python",
   "nbconvert_exporter": "python",
   "pygments_lexer": "ipython2",
   "version": "2.7.13"
  }
 },
 "nbformat": 4,
 "nbformat_minor": 2
}
